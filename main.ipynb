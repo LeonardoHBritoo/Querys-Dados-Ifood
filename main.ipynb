{
 "cells": [
  {
   "cell_type": "code",
   "execution_count": 15,
   "metadata": {},
   "outputs": [],
   "source": [
    "# Importar bibliotecas\n",
    "import csv\n",
    "import sqlite3"
   ]
  },
  {
   "cell_type": "code",
   "execution_count": 16,
   "metadata": {},
   "outputs": [],
   "source": [
    "# Criar conexão com o banco\n",
    "connection = sqlite3.connect(\"api_ifood.db\")\n",
    "\n",
    "# Criar objeto cursor, para usar o método cursor()  \n",
    "cursor = connection.cursor()"
   ]
  },
  {
   "cell_type": "code",
   "execution_count": 17,
   "metadata": {},
   "outputs": [
    {
     "data": {
      "text/plain": [
       "<sqlite3.Cursor at 0x7f0fe0d16ac0>"
      ]
     },
     "execution_count": 17,
     "metadata": {},
     "output_type": "execute_result"
    }
   ],
   "source": [
    "# Criar tabela\n",
    "cursor.execute(\"\"\"CREATE TABLE IF NOT EXISTS base_1(\n",
    "                    availableForScheduling TEXT\n",
    "                    , avatar TEXT\n",
    "                    , category TEXT\n",
    "                    , delivery_fee NUMERIC\n",
    "                    , delivery_time NUMERIC\n",
    "                    , distance NUMERIC\n",
    "                    , ibge NUMERIC\n",
    "                    , minimumOrderValue NUMERIC\n",
    "                    , name TEXT\n",
    "                    , paymentCodes TEXT\n",
    "                    , price_range TEXT\n",
    "                    , rating NUMERIC\n",
    "                    , tags TEXT\n",
    "                    , url TEXT\n",
    "               );\n",
    "               \"\"\")"
   ]
  },
  {
   "cell_type": "code",
   "execution_count": 18,
   "metadata": {},
   "outputs": [],
   "source": [
    "# Testar erros\n",
    "try:\n",
    "  \n",
    "    # Importar o csv e extrair os dados\n",
    "    with open(\"teste.csv\", \"r\") as arq:\n",
    "        arquivo = csv.DictReader(arq)\n",
    "        dados_banco = [(\n",
    "                        i['availableForScheduling']\n",
    "                        , i['avatar']\n",
    "                        , i['category'] \n",
    "                        , i['delivery_fee']\n",
    "                        , i['delivery_time'] \n",
    "                        , i['distance']\n",
    "                        , i['ibge']\n",
    "                        , i['minimumOrderValue']\n",
    "                        , i['name']\n",
    "                        , i['paymentCodes']\n",
    "                        , i['price_range']\n",
    "                        , i['rating']\n",
    "                        , i['tags']\n",
    "                        , i['url']\n",
    "                        ) for i in arquivo]\n",
    "  \n",
    "    # Inserir dados na tabela\n",
    "    cursor.executemany(\"\"\"\n",
    "                            INSERT INTO base_1 (availableForScheduling\n",
    "                                                , avatar\n",
    "                                                , category\n",
    "                                                , delivery_fee\n",
    "                                                , delivery_time\n",
    "                                                , distance\n",
    "                                                , ibge\n",
    "                                                , minimumOrderValue\n",
    "                                                , name\n",
    "                                                , paymentCodes\n",
    "                                                , price_range\n",
    "                                                , rating\n",
    "                                                , tags\n",
    "                                                , url)\n",
    "                       \n",
    "                            VALUES (?, ?, ?, ?, ?, ?, ?, ?, ?, ?, ?, ?, ?, ?)\n",
    "                       ;\"\"\", dados_banco)\n",
    "  \n",
    "except sqlite3.Error as error:\n",
    "    print(\"Error occured - \", error)\n",
    "  \n"
   ]
  },
  {
   "cell_type": "code",
   "execution_count": 19,
   "metadata": {},
   "outputs": [
    {
     "name": "stdout",
     "output_type": "stream",
     "text": [
      "[('False', 'https://static-images.ifood.com.br/image/upload/f_auto,t_high/logosgde/136c9a0c-02fb-4cf6-90b6-c4e89bd43c5b/202005291112_c5em_i.png', 'Marmita', 3.99, 27, 1.22, 5300108, 10, 'Cantina Arte & Sabor', 'DNR $$ MPAY $$ MOVPAY_MC $$ MC $$ GPY_ELO $$ ELOD $$ GPY_MCMA $$ AM $$ MCMA $$ MOVPAY_AM $$ APL_ELOD $$ IMV $$ MOVPAY_VIS $$ GPY_ELOD $$ APL_MCMA $$ GPY_MC $$ APL_ELO $$ MOVPAY_HIPER $$ APL_VISE $$ HIPER $$ IFE $$ VIS $$ APL_VIS $$ MOVPAY_ELO $$ GPY_VISE $$ MOVPAY_DNR $$ VISE $$ ELO $$ APL_MC $$ GPY_VIS', 'CHEAPEST', 0, 'ADDRESS_PREFORM_TYPE $$ CART::MCHT::100_DELIVERY_FEE_MERCH_3KM_0 $$ CPGN_USER_DISCOUNT_BR_LIST $$ GUIDED_HELP_TYPE $$ NOVO', 'https://www.ifood.com.br/delivery/brasilia-df/cantina-arte--sabor-parque-ferroviario-de-brasilia/136c9a0c-02fb-4cf6-90b6-c4e89bd43c5b'), ('False', 'https://static-images.ifood.com.br/image/upload/f_auto,t_high/logosgde/202003142155_5608d2c8-91b8-4bad-b905-63ed030b5797.png', 'Açaí', 7.99, 61, 4.96, 5300108, 10, 'Raruty Açaí Raiz', 'DNR $$ MPAY $$ MOVPAY_MC $$ MC $$ GPY_ELO $$ ELOD $$ GPY_MCMA $$ AM $$ MCMA $$ MOVPAY_AM $$ APL_ELOD $$ IMV $$ MOVPAY_VIS $$ GPY_ELOD $$ APL_MCMA $$ GPY_MC $$ APL_ELO $$ MOVPAY_HIPER $$ APL_VISE $$ HIPER $$ IFE $$ VIS $$ APL_VIS $$ MOVPAY_ELO $$ GPY_VISE $$ MOVPAY_DNR $$ VISE $$ ELO $$ APL_MC $$ GPY_VIS', 'CHEAPEST', 0, 'ADDRESS_PREFORM_TYPE $$ GUIDED_HELP_TYPE $$ MESDODOCE_FIDELIDADE_DEZ20  $$ NOVO', 'https://www.ifood.com.br/delivery/brasilia-df/raruty-acai-raiz-asa-norte/5608d2c8-91b8-4bad-b905-63ed030b5797'), ('', '', '', '', '', '', '', '', '', '', '', '', '', '')]\n"
     ]
    }
   ],
   "source": [
    "# Ver tebela\n",
    "cursor.execute(\"SELECT * FROM base_1;\")\n",
    "  \n",
    "# Ver resultado\n",
    "resultado = cursor.fetchall()\n",
    "print(resultado)"
   ]
  },
  {
   "cell_type": "code",
   "execution_count": 20,
   "metadata": {},
   "outputs": [
    {
     "name": "stdout",
     "output_type": "stream",
     "text": [
      "Conexão do SQLite encerrada.\n"
     ]
    }
   ],
   "source": [
    "# Commit o trabalho\n",
    "connection.commit()\n",
    "\n",
    "# Fechar a cursor\n",
    "cursor.close()\n",
    "\n",
    "# Fechar a conexão\n",
    "connection.close()\n",
    "print('Conexão do SQLite encerrada.')"
   ]
  }
 ],
 "metadata": {
  "kernelspec": {
   "display_name": "Python 3",
   "language": "python",
   "name": "python3"
  },
  "language_info": {
   "codemirror_mode": {
    "name": "ipython",
    "version": 3
   },
   "file_extension": ".py",
   "mimetype": "text/x-python",
   "name": "python",
   "nbconvert_exporter": "python",
   "pygments_lexer": "ipython3",
   "version": "3.11.3"
  },
  "orig_nbformat": 4
 },
 "nbformat": 4,
 "nbformat_minor": 2
}
