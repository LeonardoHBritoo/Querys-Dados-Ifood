{
 "cells": [
  {
   "cell_type": "code",
   "execution_count": 1,
   "metadata": {},
   "outputs": [],
   "source": [
    "# Importar bibliotecas\n",
    "import csv\n",
    "import sqlite3"
   ]
  },
  {
   "cell_type": "code",
   "execution_count": 2,
   "metadata": {},
   "outputs": [],
   "source": [
    "# Criar conexão com o banco\n",
    "connection = sqlite3.connect(\"api_ifood.db\",isolation_level=None) # isolation_level é o controle de concorrencia\n",
    "\n",
    "\n",
    "# Criar objeto cursor, para usar o método cursor()  \n",
    "cursor = connection.cursor()"
   ]
  },
  {
   "cell_type": "code",
   "execution_count": 3,
   "metadata": {},
   "outputs": [
    {
     "data": {
      "text/plain": [
       "<sqlite3.Cursor at 0x1bcc93389c0>"
      ]
     },
     "execution_count": 3,
     "metadata": {},
     "output_type": "execute_result"
    }
   ],
   "source": [
    "# Criar tabela\n",
    "cursor.execute(\"\"\"CREATE TABLE IF NOT EXISTS base_1(\n",
    "                    availableForScheduling TEXT\n",
    "                    , avatar TEXT\n",
    "                    , category TEXT\n",
    "                    , delivery_fee NUMERIC\n",
    "                    , delivery_time NUMERIC\n",
    "                    , distance NUMERIC\n",
    "                    , ibge NUMERIC\n",
    "                    , minimumOrderValue NUMERIC\n",
    "                    , name TEXT\n",
    "                    , paymentCodes TEXT\n",
    "                    , price_range TEXT\n",
    "                    , rating NUMERIC\n",
    "                    , tags TEXT\n",
    "                    , url TEXT\n",
    "               );\n",
    "               \"\"\")\n"
   ]
  },
  {
   "cell_type": "code",
   "execution_count": 4,
   "metadata": {},
   "outputs": [],
   "source": [
    "# Testar erros\n",
    "try:\n",
    "  \n",
    "    # Importar o csv e extrair os dados\n",
    "    with open(\"ifood-restaurants-february-2021.csv\", \"r\", encoding='utf-8') as arq:\n",
    "        arquivo = csv.DictReader(arq)\n",
    "        dados_banco = [(\n",
    "                        i['availableForScheduling']\n",
    "                        , i['avatar']\n",
    "                        , i['category'] \n",
    "                        , i['delivery_fee']\n",
    "                        , i['delivery_time'] \n",
    "                        , i['distance']\n",
    "                        , i['ibge']\n",
    "                        , i['minimumOrderValue']\n",
    "                        , i['name']\n",
    "                        , i['paymentCodes']\n",
    "                        , i['price_range']\n",
    "                        , i['rating']\n",
    "                        , i['tags']\n",
    "                        , i['url']\n",
    "                        ) for i in arquivo]\n",
    "  \n",
    "    # Inserir dados na tabela\n",
    "    cursor.executemany(\"\"\"\n",
    "                            INSERT INTO base_1 (availableForScheduling\n",
    "                                                , avatar\n",
    "                                                , category\n",
    "                                                , delivery_fee\n",
    "                                                , delivery_time\n",
    "                                                , distance\n",
    "                                                , ibge\n",
    "                                                , minimumOrderValue\n",
    "                                                , name\n",
    "                                                , paymentCodes\n",
    "                                                , price_range\n",
    "                                                , rating\n",
    "                                                , tags\n",
    "                                                , url)\n",
    "                       \n",
    "                            VALUES (?, ?, ?, ?, ?, ?, ?, ?, ?, ?, ?, ?, ?, ?)\n",
    "                       ;\"\"\", dados_banco)\n",
    "  \n",
    "except sqlite3.Error as error:\n",
    "    print(\"Error occured - \", error)\n",
    "  \n"
   ]
  },
  {
   "cell_type": "code",
   "execution_count": 26,
   "metadata": {},
   "outputs": [
    {
     "name": "stdout",
     "output_type": "stream",
     "text": [
      "[]\n"
     ]
    }
   ],
   "source": [
    "# Ver tebela\n",
    "cursor.execute(\"SELECT * FROM base_1;\")\n",
    "  \n",
    "# Ver resultado\n",
    "resultado = cursor.fetchall()\n",
    "print(resultado)"
   ]
  },
  {
   "cell_type": "code",
   "execution_count": 8,
   "metadata": {},
   "outputs": [
    {
     "name": "stdout",
     "output_type": "stream",
     "text": [
      "[('real',), ('real',), ('text',), ('real',), ('real',), ('text',)]\n"
     ]
    }
   ],
   "source": [
    "# Tipos das colunas\n",
    "cursor.execute(\"\"\"\n",
    "                    SELECT typeof(delivery_fee)\n",
    "                    FROM base_1\n",
    "               ;\"\"\")\n",
    "\n",
    "# Ver resultado\n",
    "resultado = cursor.fetchall()\n",
    "print(resultado)"
   ]
  },
  {
   "cell_type": "code",
   "execution_count": 9,
   "metadata": {},
   "outputs": [
    {
     "name": "stdout",
     "output_type": "stream",
     "text": [
      "[(0, 6)]\n"
     ]
    }
   ],
   "source": [
    "# Quantidade de NULL por coluna\n",
    "cursor.execute(\"\"\"\n",
    "                    SELECT \n",
    "                        SUM(CASE WHEN delivery_fee IS NULL THEN 1 ELSE 0 END) as countar_nulls\n",
    "                        , SUM(CASE WHEN delivery_fee IS NULL THEN 0 ELSE 1 END) as countar__n_nulls\n",
    "                    FROM base_1\n",
    "               ;\"\"\")\n",
    "\n",
    "# Ver resultado\n",
    "resultado = cursor.fetchall()\n",
    "print(resultado)"
   ]
  },
  {
   "cell_type": "code",
   "execution_count": 17,
   "metadata": {},
   "outputs": [
    {
     "name": "stdout",
     "output_type": "stream",
     "text": [
      "   0\n",
      "0  3\n"
     ]
    }
   ],
   "source": [
    "# Quantos valores únicos nas colunas categóricas\n",
    "cursor.execute(\"\"\"\n",
    "                    SELECT \n",
    "                        COUNT(DISTINCT category)\n",
    "                    FROM base_1\n",
    "               ;\"\"\")\n",
    "\n",
    "# Ver resultado\n",
    "resultado = cursor.fetchall()\n",
    "print(resultado)"
   ]
  },
  {
   "cell_type": "code",
   "execution_count": null,
   "metadata": {},
   "outputs": [],
   "source": [
    "# 10 perguntas do dataset, respondidas com query."
   ]
  },
  {
   "cell_type": "code",
   "execution_count": 39,
   "metadata": {},
   "outputs": [
    {
     "name": "stdout",
     "output_type": "stream",
     "text": [
      "Conexão do SQLite encerrada.\n"
     ]
    }
   ],
   "source": [
    "# Commit o trabalho\n",
    "connection.commit()\n",
    "\n",
    "# Fechar a cursor\n",
    "cursor.close()\n",
    "\n",
    "# Fechar a conexão\n",
    "connection.close()\n",
    "print('Conexão do SQLite encerrada.')"
   ]
  }
 ],
 "metadata": {
  "kernelspec": {
   "display_name": "Python 3",
   "language": "python",
   "name": "python3"
  },
  "language_info": {
   "codemirror_mode": {
    "name": "ipython",
    "version": 3
   },
   "file_extension": ".py",
   "mimetype": "text/x-python",
   "name": "python",
   "nbconvert_exporter": "python",
   "pygments_lexer": "ipython3",
   "version": "3.11.6"
  },
  "orig_nbformat": 4
 },
 "nbformat": 4,
 "nbformat_minor": 2
}
